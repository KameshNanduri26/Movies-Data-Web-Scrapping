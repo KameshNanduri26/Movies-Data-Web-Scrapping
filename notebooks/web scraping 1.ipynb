{
 "cells": [
  {
   "cell_type": "code",
   "execution_count": null,
   "id": "9062d3ac",
   "metadata": {
    "scrolled": true
   },
   "outputs": [],
   "source": [
    "# installing tmdb dependency\n",
    "!pip install tmdbv3api"
   ]
  },
  {
   "cell_type": "markdown",
   "id": "41a4f819",
   "metadata": {},
   "source": [
    "# Importing libraries"
   ]
  },
  {
   "cell_type": "code",
   "execution_count": null,
   "id": "1fb5e636",
   "metadata": {},
   "outputs": [],
   "source": [
    "import numpy as np\n",
    "import pandas as pd"
   ]
  },
  {
   "cell_type": "code",
   "execution_count": null,
   "id": "7639c7b8",
   "metadata": {},
   "outputs": [],
   "source": [
    "# using tmbd website for metadata of the movies\n",
    "from tmdbv3api import TMDb\n",
    "import json\n",
    "import requests\n",
    "\n",
    "tmdb = TMDb()\n",
    "tmdb.api_key = 'ef8ca48cd6c13b4f6428be8546a62fb4'"
   ]
  },
  {
   "cell_type": "markdown",
   "id": "6b4388eb",
   "metadata": {},
   "source": [
    "# Extracting features of 2018 movies from Wikipedia"
   ]
  },
  {
   "cell_type": "code",
   "execution_count": null,
   "id": "e227d837",
   "metadata": {},
   "outputs": [],
   "source": [
    "link = \"https://en.wikipedia.org/wiki/List_of_American_films_of_2018\"\n",
    "df1 = pd.read_html(link, header=0)[2]\n",
    "df2 = pd.read_html(link, header=0)[3]\n",
    "df3 = pd.read_html(link, header=0)[4]\n",
    "df4 = pd.read_html(link, header=0)[5]"
   ]
  },
  {
   "cell_type": "code",
   "execution_count": null,
   "id": "93f0e920",
   "metadata": {},
   "outputs": [],
   "source": [
    "df = pd.concat([df1, df2, df3, df4], ignore_index=True)"
   ]
  },
  {
   "cell_type": "code",
   "execution_count": null,
   "id": "8248f1ff",
   "metadata": {},
   "outputs": [],
   "source": [
    "df"
   ]
  },
  {
   "cell_type": "markdown",
   "id": "277ceb67",
   "metadata": {},
   "source": [
    "## Function to extract data of the data from TMDb"
   ]
  },
  {
   "cell_type": "code",
   "execution_count": null,
   "id": "a2b79e6e",
   "metadata": {},
   "outputs": [],
   "source": [
    "from tmdbv3api import Movie\n",
    "tmdb_movie = Movie()\n",
    "def get_genre(x):\n",
    "    genres = []\n",
    "    result = tmdb_movie.search(x)\n",
    "    movie_id = result[0].id\n",
    "    response = requests.get('https://api.themoviedb.org/3/movie/{}?api_key={}'.format(movie_id,tmdb.api_key))\n",
    "    data_json = response.json()\n",
    "    if data_json['genres']:\n",
    "        genre_str = \" \" \n",
    "        for i in range(0,len(data_json['genres'])):\n",
    "            genres.append(data_json['genres'][i]['name'])\n",
    "        return genre_str.join(genres)\n",
    "    else:\n",
    "        return np.NaN"
   ]
  },
  {
   "cell_type": "code",
   "execution_count": null,
   "id": "293a6942",
   "metadata": {},
   "outputs": [],
   "source": [
    "# creating genres column\n",
    "df['genres'] = df['Title'].map(lambda x: get_genre(str(x)))"
   ]
  },
  {
   "cell_type": "code",
   "execution_count": null,
   "id": "97437a46",
   "metadata": {},
   "outputs": [],
   "source": [
    "# filtering required data\n",
    "df_2018 = df.loc[:, ['Title','Cast and crew','genres']]"
   ]
  },
  {
   "cell_type": "code",
   "execution_count": null,
   "id": "9f73fee4",
   "metadata": {},
   "outputs": [],
   "source": [
    "df_2018"
   ]
  },
  {
   "cell_type": "code",
   "execution_count": null,
   "id": "4376193e",
   "metadata": {},
   "outputs": [],
   "source": [
    "# directors\n",
    "def get_director(x):\n",
    "    if \" (director)\" in x:\n",
    "        return x.split(\" (director)\")[0]\n",
    "    elif \" (directors)\" in x:\n",
    "        return x.split(\" (directors)\")[0]\n",
    "    else:\n",
    "        return x.split(\" (director/screenplay)\")[0]"
   ]
  },
  {
   "cell_type": "code",
   "execution_count": null,
   "id": "8a15f196",
   "metadata": {},
   "outputs": [],
   "source": [
    "df_2018['director_name']  = df_2018['Cast and crew'].map(lambda x: get_director(x))"
   ]
  },
  {
   "cell_type": "code",
   "execution_count": null,
   "id": "2c350da9",
   "metadata": {},
   "outputs": [],
   "source": [
    "# actor 1\n",
    "def get_actor1(x):\n",
    "    return ((x.split(\"screenplay); \")[-1]).split(\", \")[0])"
   ]
  },
  {
   "cell_type": "code",
   "execution_count": null,
   "id": "4d280ef7",
   "metadata": {},
   "outputs": [],
   "source": [
    "df_2018['actor_1_name'] = df_2018['Cast and crew'].map(lambda x: get_actor1(x))"
   ]
  },
  {
   "cell_type": "code",
   "execution_count": null,
   "id": "5b16bc70",
   "metadata": {},
   "outputs": [],
   "source": [
    "# actor 2\n",
    "def get_actor2(x):\n",
    "    if len((x.split(\"screenplay); \")[-1]).split(\", \")) < 2:\n",
    "        return np.NaN\n",
    "    else:\n",
    "        return ((x.split(\"screenplay); \")[-1]).split(\", \")[1])"
   ]
  },
  {
   "cell_type": "code",
   "execution_count": null,
   "id": "22151327",
   "metadata": {},
   "outputs": [],
   "source": [
    "df_2018['actor_2_name'] = df_2018['Cast and crew'].map(lambda x: get_actor2(x))"
   ]
  },
  {
   "cell_type": "code",
   "execution_count": null,
   "id": "da6b0681",
   "metadata": {},
   "outputs": [],
   "source": [
    "# actor 3\n",
    "def get_actor3(x):\n",
    "    if len((x.split(\"screenplay); \")[-1]).split(\", \")) < 3:\n",
    "        return np.NaN\n",
    "    else:\n",
    "        return ((x.split(\"screenplay); \")[-1]).split(\", \")[2])"
   ]
  },
  {
   "cell_type": "code",
   "execution_count": null,
   "id": "80803ab8",
   "metadata": {},
   "outputs": [],
   "source": [
    "df_2018['actor_3_name'] = df_2018['Cast and crew'].map(lambda x: get_actor3(x))"
   ]
  },
  {
   "cell_type": "code",
   "execution_count": null,
   "id": "c676dd05",
   "metadata": {},
   "outputs": [],
   "source": [
    "# renaming movie name\n",
    "df_2018 = df_2018.rename(columns={'Title':'movie_title'})"
   ]
  },
  {
   "cell_type": "code",
   "execution_count": null,
   "id": "322fe0dc",
   "metadata": {},
   "outputs": [],
   "source": [
    "# converting movie name into lowercase\n",
    "df_2018['movie_title'] = df_2018['movie_title'].str.lower()"
   ]
  },
  {
   "cell_type": "code",
   "execution_count": null,
   "id": "3f016aed",
   "metadata": {},
   "outputs": [],
   "source": [
    "# filtering required data\n",
    "new_df18 = df_2018.loc[:,['director_name','actor_1_name','actor_2_name','actor_3_name','genres','movie_title']]"
   ]
  },
  {
   "cell_type": "code",
   "execution_count": null,
   "id": "67e81b62",
   "metadata": {},
   "outputs": [],
   "source": [
    "# replacing nan values to unknown\n",
    "new_df18['actor_2_name'] = new_df18['actor_2_name'].replace(np.nan, 'unknown')\n",
    "new_df18['actor_3_name'] = new_df18['actor_3_name'].replace(np.nan, 'unknown')"
   ]
  },
  {
   "cell_type": "code",
   "execution_count": null,
   "id": "4322c50e",
   "metadata": {},
   "outputs": [],
   "source": [
    "new_df18"
   ]
  },
  {
   "cell_type": "markdown",
   "id": "b17cdd65",
   "metadata": {},
   "source": [
    "# Extracting features of 2019 movies from Wikipedia"
   ]
  },
  {
   "cell_type": "code",
   "execution_count": null,
   "id": "f4498a3b",
   "metadata": {},
   "outputs": [],
   "source": [
    "link = \"https://en.wikipedia.org/wiki/List_of_American_films_of_2019\"\n",
    "df1 = pd.read_html(link, header=0)[2]\n",
    "df2 = pd.read_html(link, header=0)[3]\n",
    "df3 = pd.read_html(link, header=0)[4]\n",
    "df4 = pd.read_html(link, header=0)[5]\n",
    "\n",
    "# concating the data above\n",
    "df = pd.concat([df1, df2, df3, df4], ignore_index=True)\n",
    "\n",
    "# getting movie data from tmdb\n",
    "df['genres'] = df['Title'].map(lambda x: get_genre(str(x)))\n",
    "\n",
    "# filtering desired columns\n",
    "df_2019 = df.loc[:, ['Title','Cast and crew','genres']]\n",
    "\n",
    "# cast and crew data\n",
    "df_2019['director_name']  = df_2019['Cast and crew'].map(lambda x: get_director(x))\n",
    "df_2019['actor_1_name'] = df_2019['Cast and crew'].map(lambda x: get_actor1(x))\n",
    "df_2019['actor_2_name'] = df_2019['Cast and crew'].map(lambda x: get_actor2(x))\n",
    "df_2019['actor_3_name'] = df_2019['Cast and crew'].map(lambda x: get_actor3(x))\n",
    "\n",
    "# renaming the title\n",
    "df_2019 = df_2019.rename(columns={'Title':'movie_title'})\n",
    "# converting title string to lowercase\n",
    "df_2019['movie_title'] = df_2019['movie_title'].str.lower()\n",
    "\n",
    "# creating new dataframe with data needed\n",
    "new_df19 = df_2019.loc[:,['director_name','actor_1_name','actor_2_name','actor_3_name','genres','movie_title']]\n",
    "\n",
    "# handling nan values of actors\n",
    "new_df19['actor_2_name'] = new_df19['actor_2_name'].replace(np.nan, 'unknown')\n",
    "new_df19['actor_3_name'] = new_df19['actor_3_name'].replace(np.nan, 'unknown')\n",
    "\n",
    "new_df19"
   ]
  },
  {
   "cell_type": "markdown",
   "id": "c6619ce0",
   "metadata": {},
   "source": [
    "# Merging the 2018, 2019 data to movies data till 2017"
   ]
  },
  {
   "cell_type": "code",
   "execution_count": null,
   "id": "06ed7b91",
   "metadata": {},
   "outputs": [],
   "source": [
    "my_df = pd.concat([new_df18, new_df19],ignore_index=True)"
   ]
  },
  {
   "cell_type": "code",
   "execution_count": null,
   "id": "bc43d9dd",
   "metadata": {},
   "outputs": [],
   "source": [
    "old_df = pd.read_csv('../datasets/movies_upto_2017.csv')"
   ]
  },
  {
   "cell_type": "code",
   "execution_count": null,
   "id": "55466d9f",
   "metadata": {},
   "outputs": [],
   "source": [
    "final_df = pd.concat([old_df, my_df],ignore_index=True)"
   ]
  },
  {
   "cell_type": "code",
   "execution_count": null,
   "id": "ef48208e",
   "metadata": {},
   "outputs": [],
   "source": [
    "final_df"
   ]
  },
  {
   "cell_type": "code",
   "execution_count": null,
   "id": "f5126dd5",
   "metadata": {},
   "outputs": [],
   "source": [
    "# checking for null values\n",
    "final_df.isnull().sum()"
   ]
  },
  {
   "cell_type": "code",
   "execution_count": null,
   "id": "c2920ffc",
   "metadata": {},
   "outputs": [],
   "source": [
    "# dropping null rows\n",
    "final_df.dropna(how='any', inplace=True)"
   ]
  },
  {
   "cell_type": "code",
   "execution_count": null,
   "id": "80124259",
   "metadata": {},
   "outputs": [],
   "source": [
    "# saving the dataset\n",
    "final_df.to_csv('../datasets/movies_upto_2019.csv', index=False)"
   ]
  },
  {
   "cell_type": "code",
   "execution_count": null,
   "id": "6ee340bb",
   "metadata": {},
   "outputs": [],
   "source": []
  }
 ],
 "metadata": {
  "kernelspec": {
   "display_name": "Python 3 (ipykernel)",
   "language": "python",
   "name": "python3"
  },
  "language_info": {
   "codemirror_mode": {
    "name": "ipython",
    "version": 3
   },
   "file_extension": ".py",
   "mimetype": "text/x-python",
   "name": "python",
   "nbconvert_exporter": "python",
   "pygments_lexer": "ipython3",
   "version": "3.9.12"
  }
 },
 "nbformat": 4,
 "nbformat_minor": 5
}
