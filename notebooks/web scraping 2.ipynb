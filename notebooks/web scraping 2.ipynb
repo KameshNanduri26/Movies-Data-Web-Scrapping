{
 "cells": [
  {
   "cell_type": "code",
   "execution_count": null,
   "id": "489e5f2b",
   "metadata": {},
   "outputs": [],
   "source": [
    "!pip install tmdbv3api"
   ]
  },
  {
   "cell_type": "markdown",
   "id": "ab381cd7",
   "metadata": {},
   "source": [
    "# Importing libraries"
   ]
  },
  {
   "cell_type": "code",
   "execution_count": null,
   "id": "f44471b6",
   "metadata": {},
   "outputs": [],
   "source": [
    "import numpy as np\n",
    "import pandas as pd\n",
    "import requests\n",
    "import urllib.request\n",
    "import bs4 as bs"
   ]
  },
  {
   "cell_type": "code",
   "execution_count": null,
   "id": "d4059548",
   "metadata": {},
   "outputs": [],
   "source": [
    "# using tmbd website for metadata of the movies\n",
    "from tmdbv3api import TMDb\n",
    "import json\n",
    "import requests\n",
    "\n",
    "tmdb = TMDb()\n",
    "tmdb.api_key = 'ef8ca48cd6c13b4f6428be8546a62fb4'"
   ]
  },
  {
   "cell_type": "markdown",
   "id": "87d6513a",
   "metadata": {},
   "source": [
    "# Functions used to extract the data from TMDb"
   ]
  },
  {
   "cell_type": "markdown",
   "id": "00fd46f1",
   "metadata": {},
   "source": [
    "These functions are used in \"Preprocessing 2\" file already. Copied here! Positioned above all for code readability and neatness."
   ]
  },
  {
   "cell_type": "code",
   "execution_count": null,
   "id": "60605db2",
   "metadata": {},
   "outputs": [],
   "source": [
    "from tmdbv3api import Movie\n",
    "tmdb_movie = Movie()\n",
    "def get_genre(x):\n",
    "    genres = []\n",
    "    result = tmdb_movie.search(x)\n",
    "    movie_id = result[0].id\n",
    "    response = requests.get('https://api.themoviedb.org/3/movie/{}?api_key={}'.format(movie_id,tmdb.api_key))\n",
    "    data_json = response.json()\n",
    "    if data_json['genres']:\n",
    "        genre_str = \" \" \n",
    "        for i in range(0,len(data_json['genres'])):\n",
    "            genres.append(data_json['genres'][i]['name'])\n",
    "        return genre_str.join(genres)\n",
    "    else:\n",
    "        return np.NaN"
   ]
  },
  {
   "cell_type": "code",
   "execution_count": null,
   "id": "62edc05b",
   "metadata": {},
   "outputs": [],
   "source": [
    "def get_director(x):\n",
    "    if \" (director)\" in x:\n",
    "        return x.split(\" (director)\")[0]\n",
    "    elif \" (directors)\" in x:\n",
    "        return x.split(\" (directors)\")[0]\n",
    "    else:\n",
    "        return x.split(\" (director/screenplay)\")[0]"
   ]
  },
  {
   "cell_type": "code",
   "execution_count": null,
   "id": "fc75078d",
   "metadata": {},
   "outputs": [],
   "source": [
    "def get_actor1(x):\n",
    "    return ((x.split(\"screenplay); \")[-1]).split(\", \")[0])"
   ]
  },
  {
   "cell_type": "code",
   "execution_count": null,
   "id": "604980bc",
   "metadata": {},
   "outputs": [],
   "source": [
    "def get_actor2(x):\n",
    "    if len((x.split(\"screenplay); \")[-1]).split(\", \")) < 2:\n",
    "        return np.NaN\n",
    "    else:\n",
    "        return ((x.split(\"screenplay); \")[-1]).split(\", \")[1])"
   ]
  },
  {
   "cell_type": "code",
   "execution_count": null,
   "id": "1d84ea81",
   "metadata": {},
   "outputs": [],
   "source": [
    "def get_actor3(x):\n",
    "    if len((x.split(\"screenplay); \")[-1]).split(\", \")) < 3:\n",
    "        return np.NaN\n",
    "    else:\n",
    "        return ((x.split(\"screenplay); \")[-1]).split(\", \")[2])"
   ]
  },
  {
   "cell_type": "markdown",
   "id": "ef3e868f",
   "metadata": {},
   "source": [
    "# Extracting features of 2020 movies from Wikipedia"
   ]
  },
  {
   "cell_type": "code",
   "execution_count": null,
   "id": "4888864d",
   "metadata": {},
   "outputs": [],
   "source": [
    "link = \"https://en.wikipedia.org/wiki/List_of_American_films_of_2020\""
   ]
  },
  {
   "cell_type": "code",
   "execution_count": null,
   "id": "927c2552",
   "metadata": {},
   "outputs": [],
   "source": [
    "source = urllib.request.urlopen(link).read()\n",
    "soup = bs.BeautifulSoup(source,'lxml')"
   ]
  },
  {
   "cell_type": "code",
   "execution_count": null,
   "id": "4b526a1f",
   "metadata": {},
   "outputs": [],
   "source": [
    "tables = soup.find_all('table',class_='wikitable sortable')"
   ]
  },
  {
   "cell_type": "code",
   "execution_count": null,
   "id": "02f75e55",
   "metadata": {},
   "outputs": [],
   "source": [
    "df1 = pd.read_html(str(tables[0]))[0]\n",
    "df2 = pd.read_html(str(tables[1]))[0]\n",
    "df3 = pd.read_html(str(tables[2]))[0]\n",
    "df4 = pd.read_html(str(tables[3]).replace(\"'1\\\"\\'\",'\"1\"'))[0] \n",
    "# avoided \"ValueError: invalid literal for int() with base 10: '1\"'"
   ]
  },
  {
   "cell_type": "code",
   "execution_count": null,
   "id": "e6d37e58",
   "metadata": {},
   "outputs": [],
   "source": [
    "# concating the data above\n",
    "df = pd.concat([df1, df2, df3, df4], ignore_index=True)\n",
    "df"
   ]
  },
  {
   "cell_type": "code",
   "execution_count": null,
   "id": "249fb8aa",
   "metadata": {},
   "outputs": [],
   "source": [
    "df_2020 = df.loc[:, ['Title','Cast and crew']]\n",
    "df_2020"
   ]
  },
  {
   "cell_type": "markdown",
   "id": "9d1970cc",
   "metadata": {},
   "source": [
    "# Errors fixed"
   ]
  },
  {
   "cell_type": "markdown",
   "id": "26cb7139",
   "metadata": {},
   "source": [
    "### I observed some errors while using the get_genre() function and found it at which index the error is generating with the help of following function before"
   ]
  },
  {
   "cell_type": "code",
   "execution_count": null,
   "id": "edea17dc",
   "metadata": {},
   "outputs": [],
   "source": [
    "\"\"\"\n",
    "from tmdbv3api import Movie\n",
    "tmdb_movie = Movie()\n",
    "def get_movieid(movies):\n",
    "    movie_ids=[]\n",
    "    count = 0\n",
    "    for x in movies:\n",
    "        count += 1\n",
    "        result = tmdb_movie.search(str(x))\n",
    "        try:\n",
    "            movie_ids.append(result[0].id)\n",
    "        except:\n",
    "            print(\"error occured at: \", count)\n",
    "            movie_ids.append(np.NaN)\n",
    "            continue\n",
    "    return movie_ids\n",
    "\n",
    "\n",
    "ids = get_movieid(df_2020['Title'])\n",
    "\n",
    "\"\"\"\n",
    "\n",
    "\"\"\"\n",
    "The error occured at \n",
    "1. at 54th index - ('No films had been released on this date as resulting the closure of theaters caused by the COVID-19 pandemic')\n",
    "2. at 126th index - ('The SpongeBob Movie: Sponge on the Run (Canadian theatrical release)') movie is not recognized in TMDB\n",
    "\n",
    "To fix the errors, I have updated movie name at 126th index, dropped 54th index data, and reset index\n",
    "\n",
    "\"\"\"\n",
    "\n",
    "df_2020.loc[126, 'Title']\n",
    "# output: 'The SpongeBob Movie: Sponge on the Run (Canadian theatrical release)'\n",
    "\n",
    "df_2020.loc[126, 'Title'] = 'The SpongeBob Movie: Sponge on the Run'\n",
    "\n",
    "df_2020.loc[54, 'Title']\n",
    "# output: 'No films had been released on this date as resulting the closure of theaters caused by the COVID-19 pandemic'\n",
    "\n",
    "df_2020.drop(df_2020.index[54], inplace=True)\n",
    "\n",
    "df_2020.reset_index(drop=True, inplace=True)"
   ]
  },
  {
   "cell_type": "markdown",
   "id": "0c053dad",
   "metadata": {},
   "source": [
    "# Continuing extracting the following"
   ]
  },
  {
   "cell_type": "code",
   "execution_count": null,
   "id": "62163202",
   "metadata": {
    "scrolled": false
   },
   "outputs": [],
   "source": [
    "df_2020['genres'] = df_2020['Title'].map(lambda x: get_genre(str(x)))"
   ]
  },
  {
   "cell_type": "code",
   "execution_count": null,
   "id": "42f84f16",
   "metadata": {},
   "outputs": [],
   "source": [
    "df_2020['director_name'] = df_2020['Cast and crew'].map(lambda x: get_director(str(x)))\n",
    "df_2020['actor_1_name'] = df_2020['Cast and crew'].map(lambda x: get_actor1(str(x)))\n",
    "df_2020['actor_2_name'] = df_2020['Cast and crew'].map(lambda x: get_actor2(str(x)))\n",
    "df_2020['actor_3_name'] = df_2020['Cast and crew'].map(lambda x: get_actor3(str(x)))"
   ]
  },
  {
   "cell_type": "code",
   "execution_count": null,
   "id": "7de03169",
   "metadata": {
    "scrolled": true
   },
   "outputs": [],
   "source": [
    "df_2020"
   ]
  },
  {
   "cell_type": "code",
   "execution_count": null,
   "id": "6827df7a",
   "metadata": {},
   "outputs": [],
   "source": [
    "# renamed column\n",
    "df_2020 = df_2020.rename(columns={'Title':'movie_title'})"
   ]
  },
  {
   "cell_type": "code",
   "execution_count": null,
   "id": "c9d70a80",
   "metadata": {},
   "outputs": [],
   "source": [
    "# converting movie name to lowercase\n",
    "df_2020['movie_title'] = df_2020['movie_title'].str.lower()"
   ]
  },
  {
   "cell_type": "code",
   "execution_count": null,
   "id": "99323312",
   "metadata": {},
   "outputs": [],
   "source": [
    "# filtering the data\n",
    "new_df20 = df_2020.loc[:,['director_name','actor_1_name','actor_2_name','actor_3_name','genres','movie_title']]"
   ]
  },
  {
   "cell_type": "code",
   "execution_count": null,
   "id": "70b24722",
   "metadata": {},
   "outputs": [],
   "source": [
    "# handling nan values of actor names\n",
    "new_df20['actor_2_name'] = new_df20['actor_2_name'].replace(np.nan, 'unknown')\n",
    "new_df20['actor_3_name'] = new_df20['actor_3_name'].replace(np.nan, 'unknown')"
   ]
  },
  {
   "cell_type": "code",
   "execution_count": null,
   "id": "1a787671",
   "metadata": {},
   "outputs": [],
   "source": [
    "# dropping null rows\n",
    "new_df20.dropna(how='any', inplace=True)"
   ]
  },
  {
   "cell_type": "code",
   "execution_count": null,
   "id": "c64c6564",
   "metadata": {},
   "outputs": [],
   "source": [
    "# final data\n",
    "new_df20"
   ]
  },
  {
   "cell_type": "markdown",
   "id": "4ff57fd5",
   "metadata": {},
   "source": [
    "# Extracting features of 2021 movies from Wikipedia"
   ]
  },
  {
   "cell_type": "code",
   "execution_count": null,
   "id": "2883a86a",
   "metadata": {},
   "outputs": [],
   "source": [
    "link = \"https://en.wikipedia.org/wiki/List_of_American_films_of_2021\""
   ]
  },
  {
   "cell_type": "code",
   "execution_count": null,
   "id": "f3b91a40",
   "metadata": {},
   "outputs": [],
   "source": [
    "source = urllib.request.urlopen(link).read()\n",
    "soup = bs.BeautifulSoup(source,'lxml')"
   ]
  },
  {
   "cell_type": "code",
   "execution_count": null,
   "id": "b2f1dcf6",
   "metadata": {},
   "outputs": [],
   "source": [
    "tables = soup.find_all('table',class_='wikitable sortable')"
   ]
  },
  {
   "cell_type": "code",
   "execution_count": null,
   "id": "d643bcdd",
   "metadata": {},
   "outputs": [],
   "source": [
    "df1 = pd.read_html(str(tables[0]))[0]\n",
    "df2 = pd.read_html(str(tables[1]))[0]\n",
    "df3 = pd.read_html(str(tables[2]))[0]\n",
    "df4 = pd.read_html(str(tables[3]).replace(\"'1\\\"\\'\",'\"1\"'))[0] \n",
    "# avoided \"ValueError: invalid literal for int() with base 10: '1\"'"
   ]
  },
  {
   "cell_type": "code",
   "execution_count": null,
   "id": "d2c697c8",
   "metadata": {},
   "outputs": [],
   "source": [
    "# concating the data above\n",
    "df = pd.concat([df1, df2, df3, df4], ignore_index=True)\n",
    "df"
   ]
  },
  {
   "cell_type": "code",
   "execution_count": null,
   "id": "9a1f0f12",
   "metadata": {},
   "outputs": [],
   "source": [
    "df_2021 = df.loc[:, ['Title','Cast and crew']]\n",
    "df_2021"
   ]
  },
  {
   "cell_type": "code",
   "execution_count": null,
   "id": "cd142477",
   "metadata": {},
   "outputs": [],
   "source": [
    "df_2021['genres'] = df_2021['Title'].map(lambda x: get_genre(str(x)))"
   ]
  },
  {
   "cell_type": "code",
   "execution_count": null,
   "id": "a3febce9",
   "metadata": {},
   "outputs": [],
   "source": [
    "df_2021['director_name'] = df_2021['Cast and crew'].map(lambda x: get_director(str(x)))\n",
    "df_2021['actor_1_name'] = df_2021['Cast and crew'].map(lambda x: get_actor1(str(x)))\n",
    "df_2021['actor_2_name'] = df_2021['Cast and crew'].map(lambda x: get_actor2(str(x)))\n",
    "df_2021['actor_3_name'] = df_2021['Cast and crew'].map(lambda x: get_actor3(str(x)))"
   ]
  },
  {
   "cell_type": "code",
   "execution_count": null,
   "id": "aaa716b0",
   "metadata": {},
   "outputs": [],
   "source": [
    "df_2021"
   ]
  },
  {
   "cell_type": "code",
   "execution_count": null,
   "id": "46fcf88a",
   "metadata": {},
   "outputs": [],
   "source": [
    "# renamed column\n",
    "df_2021 = df_2021.rename(columns={'Title':'movie_title'})"
   ]
  },
  {
   "cell_type": "code",
   "execution_count": null,
   "id": "e08c3dec",
   "metadata": {},
   "outputs": [],
   "source": [
    "# converting movie name to lowercase\n",
    "df_2021['movie_title'] = df_2021['movie_title'].str.lower()"
   ]
  },
  {
   "cell_type": "code",
   "execution_count": null,
   "id": "8ed767b3",
   "metadata": {},
   "outputs": [],
   "source": [
    "# filtering the data\n",
    "new_df21 = df_2021.loc[:,['director_name','actor_1_name','actor_2_name','actor_3_name','genres','movie_title']]"
   ]
  },
  {
   "cell_type": "code",
   "execution_count": null,
   "id": "2c038cd0",
   "metadata": {},
   "outputs": [],
   "source": [
    "# handling nan values of actor names\n",
    "new_df21['actor_2_name'] = new_df21['actor_2_name'].replace(np.nan, 'unknown')\n",
    "new_df21['actor_3_name'] = new_df21['actor_3_name'].replace(np.nan, 'unknown')"
   ]
  },
  {
   "cell_type": "code",
   "execution_count": null,
   "id": "73a1346d",
   "metadata": {},
   "outputs": [],
   "source": [
    "# dropping null rows\n",
    "new_df21.dropna(how='any', inplace=True)"
   ]
  },
  {
   "cell_type": "code",
   "execution_count": null,
   "id": "d493ce7f",
   "metadata": {},
   "outputs": [],
   "source": [
    "# final dataset\n",
    "new_df21"
   ]
  },
  {
   "cell_type": "markdown",
   "id": "4c213b5f",
   "metadata": {},
   "source": [
    "# Merging with movies data upto 2019"
   ]
  },
  {
   "cell_type": "code",
   "execution_count": null,
   "id": "53148ef3",
   "metadata": {},
   "outputs": [],
   "source": [
    "my_df = pd.concat([new_df20, new_df21],ignore_index=True)"
   ]
  },
  {
   "cell_type": "code",
   "execution_count": null,
   "id": "12a0a282",
   "metadata": {},
   "outputs": [],
   "source": [
    "old_df = pd.read_csv('../datasets/movie_upto_2019.csv')"
   ]
  },
  {
   "cell_type": "code",
   "execution_count": null,
   "id": "c98c8eca",
   "metadata": {},
   "outputs": [],
   "source": [
    "final_df = pd.concat([my_df, old_df], ignore_index=True)"
   ]
  },
  {
   "cell_type": "code",
   "execution_count": null,
   "id": "0f9167cc",
   "metadata": {},
   "outputs": [],
   "source": [
    "final_df"
   ]
  },
  {
   "cell_type": "code",
   "execution_count": null,
   "id": "fc9d4e0f",
   "metadata": {},
   "outputs": [],
   "source": [
    "# saving the dataset\n",
    "final_df.to_csv('../datasets/movies_upto_2021.csv', index=False)"
   ]
  },
  {
   "cell_type": "code",
   "execution_count": null,
   "id": "0e9df2d1",
   "metadata": {},
   "outputs": [],
   "source": []
  }
 ],
 "metadata": {
  "kernelspec": {
   "display_name": "Python 3 (ipykernel)",
   "language": "python",
   "name": "python3"
  },
  "language_info": {
   "codemirror_mode": {
    "name": "ipython",
    "version": 3
   },
   "file_extension": ".py",
   "mimetype": "text/x-python",
   "name": "python",
   "nbconvert_exporter": "python",
   "pygments_lexer": "ipython3",
   "version": "3.9.12"
  }
 },
 "nbformat": 4,
 "nbformat_minor": 5
}
